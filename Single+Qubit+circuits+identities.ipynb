{
 "cells": [
  {
   "cell_type": "code",
   "execution_count": 1,
   "id": "b4bb33cc",
   "metadata": {},
   "outputs": [],
   "source": [
    "from qiskit import QuantumRegister, ClassicalRegister, QuantumCircuit\n",
    "q = QuantumRegister(1)\n",
    "qc0 = QuantumCircuit(q)\n",
    "qc1 = QuantumCircuit(q)"
   ]
  },
  {
   "cell_type": "code",
   "execution_count": 2,
   "id": "c6bebd36",
   "metadata": {},
   "outputs": [],
   "source": [
    "for i in range(3):\n",
    "    qc0.y(q[0])\n",
    "    "
   ]
  },
  {
   "cell_type": "code",
   "execution_count": 3,
   "id": "8a78fdd8",
   "metadata": {},
   "outputs": [
    {
     "data": {
      "image/png": "[encoded data removed]",
      "text/plain": [
       "<Figure size 266.907x84.28 with 1 Axes>"
      ]
     },
     "metadata": {},
     "output_type": "display_data"
    },
    {
     "data": {
      "image/png": "[encoded data removed]",
      "text/plain": [
       "<Figure size 116.407x84.28 with 1 Axes>"
      ]
     },
     "metadata": {},
     "output_type": "display_data"
    }
   ],
   "source": [
    "display(qc0.draw('mpl'),qc1.draw('mpl'))"
   ]
  },
  {
   "cell_type": "code",
   "execution_count": 4,
   "id": "a01682e0",
   "metadata": {},
   "outputs": [],
   "source": [
    "from qiskit.quantum_info import Statevector"
   ]
  },
  {
   "cell_type": "code",
   "execution_count": 5,
   "id": "c6c2613e",
   "metadata": {},
   "outputs": [],
   "source": [
    "psi0 = Statevector(qc0)\n",
    "psi1 = Statevector(qc1)"
   ]
  },
  {
   "cell_type": "code",
   "execution_count": 6,
   "id": "1e2bed64",
   "metadata": {
    "scrolled": true
   },
   "outputs": [
    {
     "data": {
      "text/latex": [
       "$$i |1\\rangle$$"
      ],
      "text/plain": [
       "<IPython.core.display.Latex object>"
      ]
     },
     "metadata": {},
     "output_type": "display_data"
    },
    {
     "data": {
      "text/latex": [
       "$$ |0\\rangle$$"
      ],
      "text/plain": [
       "<IPython.core.display.Latex object>"
      ]
     },
     "metadata": {},
     "output_type": "display_data"
    }
   ],
   "source": [
    "display(psi0.draw('latex'),psi1.draw('latex'))"
   ]
  },
  {
   "cell_type": "code",
   "execution_count": 7,
   "id": "1d8748fb",
   "metadata": {},
   "outputs": [
    {
     "data": {
      "image/png": "[encoded data removed]",
      "text/plain": [
       "<Figure size 327.107x84.28 with 1 Axes>"
      ]
     },
     "metadata": {},
     "output_type": "display_data"
    },
    {
     "data": {
      "image/png": "[encoded data removed]",
      "text/plain": [
       "<Figure size 146.507x84.28 with 1 Axes>"
      ]
     },
     "metadata": {},
     "output_type": "display_data"
    }
   ],
   "source": [
    "qc0.reset(q[0])\n",
    "qc1.reset(q[0])\n",
    "display(qc0.draw('mpl'),qc1.draw('mpl'))"
   ]
  },
  {
   "cell_type": "code",
   "execution_count": 8,
   "id": "350bf691",
   "metadata": {
    "scrolled": true
   },
   "outputs": [
    {
     "data": {
      "image/png": "[encoded data removed]",
      "text/plain": [
       "<Figure size 447.507x84.28 with 1 Axes>"
      ]
     },
     "metadata": {},
     "output_type": "display_data"
    },
    {
     "data": {
      "image/png": "[encoded data removed]",
      "text/plain": [
       "<Figure size 206.707x84.28 with 1 Axes>"
      ]
     },
     "metadata": {},
     "output_type": "display_data"
    }
   ],
   "source": [
    "qc0.z(q[0])\n",
    "qc0.x(q[0])\n",
    "qc1.y(q[0])\n",
    "display(qc0.draw('mpl'),qc1.draw('mpl'))"
   ]
  },
  {
   "cell_type": "code",
   "execution_count": 9,
   "id": "11412c3b",
   "metadata": {},
   "outputs": [
    {
     "data": {
      "text/latex": [
       "$$i |1\\rangle$$"
      ],
      "text/plain": [
       "<IPython.core.display.Latex object>"
      ]
     },
     "metadata": {},
     "output_type": "display_data"
    },
    {
     "data": {
      "text/latex": [
       "$$i |1\\rangle$$"
      ],
      "text/plain": [
       "<IPython.core.display.Latex object>"
      ]
     },
     "metadata": {},
     "output_type": "display_data"
    }
   ],
   "source": [
    "psi0 = Statevector(qc0)\n",
    "psi1 = Statevector(qc1)\n",
    "display(psi0.draw('latex'),psi1.draw('latex'))"
   ]
  },
  {
   "cell_type": "code",
   "execution_count": 10,
   "id": "695853dc",
   "metadata": {},
   "outputs": [
    {
     "data": {
      "image/png": "[encoded data removed]",
      "text/plain": [
       "<Figure size 507.707x84.28 with 1 Axes>"
      ]
     },
     "metadata": {},
     "output_type": "display_data"
    },
    {
     "data": {
      "image/png": "[encoded data removed]",
      "text/plain": [
       "<Figure size 266.907x84.28 with 1 Axes>"
      ]
     },
     "metadata": {},
     "output_type": "display_data"
    }
   ],
   "source": [
    "qc0.reset(q[0])\n",
    "qc1.reset(q[0])\n",
    "display(qc0.draw('mpl'),qc1.draw('mpl'))"
   ]
  },
  {
   "cell_type": "code",
   "execution_count": 11,
   "id": "38321090",
   "metadata": {
    "scrolled": true
   },
   "outputs": [
    {
     "data": {
      "image/png": "[encoded data removed]",
      "text/plain": [
       "<Figure size 688.307x84.28 with 1 Axes>"
      ]
     },
     "metadata": {},
     "output_type": "display_data"
    },
    {
     "data": {
      "image/png": "[encoded data removed]",
      "text/plain": [
       "<Figure size 327.107x84.28 with 1 Axes>"
      ]
     },
     "metadata": {},
     "output_type": "display_data"
    }
   ],
   "source": [
    "qc0.h(q[0])\n",
    "qc0.z(q[0])\n",
    "qc0.h(q[0])\n",
    "qc1.x(q[0])\n",
    "display(qc0.draw('mpl'),qc1.draw('mpl'))"
   ]
  },
  {
   "cell_type": "code",
   "execution_count": 12,
   "id": "f62a7b1f",
   "metadata": {},
   "outputs": [
    {
     "data": {
      "text/latex": [
       "$$i |1\\rangle$$"
      ],
      "text/plain": [
       "<IPython.core.display.Latex object>"
      ]
     },
     "metadata": {},
     "output_type": "display_data"
    },
    {
     "data": {
      "text/latex": [
       "$$i |1\\rangle$$"
      ],
      "text/plain": [
       "<IPython.core.display.Latex object>"
      ]
     },
     "metadata": {},
     "output_type": "display_data"
    }
   ],
   "source": [
    "psi0 = Statevector(qc0)\n",
    "psi1 = Statevector(qc1)\n",
    "display(psi0.draw('latex'),psi1.draw('latex'))"
   ]
  },
  {
   "cell_type": "code",
   "execution_count": 13,
   "id": "01e5687b",
   "metadata": {
    "jupyter": {
     "source_hidden": true
    }
   },
   "outputs": [
    {
     "data": {
      "image/png": "[encoded data removed]",
      "text/plain": [
       "<Figure size 748.507x84.28 with 1 Axes>"
      ]
     },
     "metadata": {},
     "output_type": "display_data"
    },
    {
     "data": {
      "image/png": "[encoded data removed]",
      "text/plain": [
       "<Figure size 387.307x84.28 with 1 Axes>"
      ]
     },
     "metadata": {},
     "output_type": "display_data"
    }
   ],
   "source": [
    "qc0.reset(q[0])\n",
    "qc1.reset(q[0])\n",
    "display(qc0.draw('mpl'),qc1.draw('mpl'))"
   ]
  },
  {
   "cell_type": "code",
   "execution_count": 14,
   "id": "d5e76c90",
   "metadata": {
    "scrolled": true
   },
   "outputs": [
    {
     "data": {
      "image/png": "[encoded data removed]",
      "text/plain": [
       "<Figure size 929.107x84.28 with 1 Axes>"
      ]
     },
     "metadata": {},
     "output_type": "display_data"
    },
    {
     "data": {
      "image/png": "[encoded data removed]",
      "text/plain": [
       "<Figure size 447.507x84.28 with 1 Axes>"
      ]
     },
     "metadata": {},
     "output_type": "display_data"
    }
   ],
   "source": [
    "qc0.sdg(q[0])\n",
    "qc0.x(q[0])\n",
    "qc0.s(q[0])\n",
    "qc1.y(q[0])\n",
    "display(qc0.draw('mpl'),qc1.draw('mpl'))"
   ]
  },
  {
   "cell_type": "code",
   "execution_count": 15,
   "id": "f7fe5db1",
   "metadata": {},
   "outputs": [
    {
     "data": {
      "text/latex": [
       "$$- |1\\rangle$$"
      ],
      "text/plain": [
       "<IPython.core.display.Latex object>"
      ]
     },
     "metadata": {},
     "output_type": "display_data"
    },
    {
     "data": {
      "text/latex": [
       "$$- |1\\rangle$$"
      ],
      "text/plain": [
       "<IPython.core.display.Latex object>"
      ]
     },
     "metadata": {},
     "output_type": "display_data"
    }
   ],
   "source": [
    "psi0 = Statevector(qc0)\n",
    "psi1 = Statevector(qc1)\n",
    "display(psi0.draw('latex'),psi1.draw('latex'))"
   ]
  },
  {
   "cell_type": "code",
   "execution_count": null,
   "id": "c94175ea",
   "metadata": {},
   "outputs": [],
   "source": []
  },
  {
   "cell_type": "code",
   "execution_count": null,
   "id": "650bd4f8-ab41-4490-b7c0-69940516ebb8",
   "metadata": {},
   "outputs": [],
   "source": []
  }
 ],
 "metadata": {
  "kernelspec": {
   "display_name": "Python 3 (ipykernel)",
   "language": "python",
   "name": "python3"
  },
  "language_info": {
   "codemirror_mode": {
    "name": "ipython",
    "version": 3
   },
   "file_extension": ".py",
   "mimetype": "text/x-python",
   "name": "python",
   "nbconvert_exporter": "python",
   "pygments_lexer": "ipython3",
   "version": "3.12.3"
  }
 },
 "nbformat": 4,
 "nbformat_minor": 5
}
